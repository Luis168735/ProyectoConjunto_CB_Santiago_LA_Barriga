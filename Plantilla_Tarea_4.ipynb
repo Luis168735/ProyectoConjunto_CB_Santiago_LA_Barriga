{
 "cells": [
  {
   "cell_type": "markdown",
   "metadata": {},
   "source": [
    "<img style=\"float: left; margin: 30px 15px 15px 15px;\" src=\"https://pngimage.net/wp-content/uploads/2018/06/logo-iteso-png-5.png\" width=\"300\" height=\"500\" /> \n",
    "    \n",
    "    \n",
    "### <font color='navy'> Simulación de procesos financieros. \n",
    "\n",
    "**Nombres:** Luis Antonio Barriga Adame, Santiago Cataño Besson.\n",
    "\n",
    "**Fecha:** 06 de Marzo del 2023.\n",
    "\n",
    "**Expediente** : 730512, 727527 .\n",
    "**Profesor:** Oscar David Jaramillo Zuluaga.\n",
    "    \n",
    "**Link Github**: https://github.com/Luis168735/ProyectoConjunto_CB_Santiago_LA_Barriga\n",
    "\n",
    "# Tarea 4: Clase 9 y 10"
   ]
  },
  {
   "cell_type": "markdown",
   "metadata": {},
   "source": [
    "#### Tarea clase 9\n",
    "Para las siguiente dos funciones, genere muestres aleatorias que distribuyan según la función dada usando el método de la transformada inversa y grafique el histograma de 1000 muestras generadas con el método de la transformada inversa y compárela con el función $f(x)$ **(recuerde que $f(x)$ es la distribución de probabilidad y $F(x)$ es la distribución de probabilidad acumulada)**\n",
    " \n",
    "> 1. Generación variable aleatoria continua\n",
    ">El tiempo en el cual un movimiento browniano se mantiene sobre su punto máximo en el intervalo [0,1] tiene una distribución\n",
    ">$$F(x)=\\frac{2}{\\pi}\\sin^{-1}(\\sqrt x),\\quad 0\\leq x\\leq 1$$ </font>\n",
    "> 2. Generación variable aleatoria Discreta\n",
    "> La distribución binomial modela el número de éxitos de n ensayos independientes donde hay una probabilidad p de éxito en cada ensayo.\n",
    "> Generar una variable aletoria binomial con parámetros $n=10$ y $p=0.7$. Recordar que $$X\\sim binomial(n,p) \\longrightarrow p_i=P(X=i)=\\frac{n!}{i!(n-i)!}p^i(1-p)^{n-i},\\quad i=0,1,\\cdots,n$$\n",
    "> Por propiedades de la operación factorial la anterior $p_i$ se puede escribir como:\n",
    "> $$p_{i+1}=\\frac{n-i}{i+1}\\frac{p}{1-p} p_i $$\n"
   ]
  },
  {
   "cell_type": "markdown",
   "metadata": {},
   "source": [
    "### Ejercicio 1: "
   ]
  },
  {
   "cell_type": "code",
   "execution_count": 57,
   "metadata": {},
   "outputs": [],
   "source": [
    "import numpy as np\n",
    "import matplotlib.pyplot as plt\n",
    "import scipy.special as sps \n",
    "from math import factorial as fac\n",
    "from scipy import optimize\n",
    "from scipy.stats import beta\n",
    "import pandas as pd"
   ]
  },
  {
   "cell_type": "markdown",
   "metadata": {},
   "source": [
    "Código de solución estudiante 1: Luis"
   ]
  },
  {
   "cell_type": "markdown",
   "metadata": {},
   "source": [
    "\n",
    "$$F(x) = \\frac{2}{\\pi}\\sin^{-1}(\\sqrt x) = y$$\n",
    "\n",
    "$$= \\sin(y) = \\sqrt x$$\n",
    "\n",
    "$$= y = \\sin^{-1}(\\sqrt x)$$\n",
    "\n",
    "$$F^{-1}(u) = \\sin^2\\left(\\frac{\\pi u}{2}\\right),\\quad 0\\leq u\\leq 1$$\n",
    "\n"
   ]
  },
  {
   "cell_type": "code",
   "execution_count": 89,
   "metadata": {},
   "outputs": [
    {
     "name": "stderr",
     "output_type": "stream",
     "text": [
      "<ipython-input-89-9d9525d13dd8>:15: RuntimeWarning: divide by zero encountered in divide\n",
      "  fx = 1/(np.pi*np.sqrt(x*(1-x)))\n"
     ]
    },
    {
     "data": {
      "image/png": "[encoded data removed]",
      "text/plain": [
       "<Figure size 432x288 with 1 Axes>"
      ]
     },
     "metadata": {
      "needs_background": "light"
     },
     "output_type": "display_data"
    }
   ],
   "source": [
    "# Generamos 1000 variables aleatorias continuas uniformes usando rand.\n",
    "u = np.random.rand(1000)\n",
    "\n",
    "#Primero definimos la función de probabilidad acumulada(F(x)):\n",
    "def Fun_prob_acum(x):\n",
    "    return 2/np.pi * np.arcsin(np.sqrt(x))\n",
    "\n",
    "# Ahora definimos la inversa(F(x)^-1):\n",
    "def Inversa(y):\n",
    "    return np.sin(np.pi*y/2)**2\n",
    "\n",
    "Sol1 = Inversa(u)\n",
    "#Función de densidad de probabilidad (f(x)) esta es la linea que va por encima y nos muestra si es que se hizo correctamente.\n",
    "x = np.linspace(0, 1, 1000)\n",
    "fx = 1/(np.pi*np.sqrt(x*(1-x)))\n",
    "\n",
    "#Graficamos\n",
    "plt.hist(Sol1,bins=50,density=True, color= \"orange\")\n",
    "plt.plot(x, fx, 'r', linewidth=2)\n",
    "\n",
    "plt.xlabel(\"Valores aleatorios\")\n",
    "plt.ylabel(\"Probabilidad\")\n",
    "plt.title(\"Ejercicio 1\")\n",
    "plt.show()"
   ]
  },
  {
   "cell_type": "markdown",
   "metadata": {},
   "source": [
    "Podemos observar que el histograma de las muestras generadas se parece a la función de distribución de probabilidad $f(x)$, lo que nos da a entender queeste método de la transformada inversa es efectivo para generar muestras aleatorias que distribuyan según la función dada."
   ]
  },
  {
   "cell_type": "code",
   "execution_count": 101,
   "metadata": {},
   "outputs": [
    {
     "data": {
      "image/png": "[encoded data removed]",
      "text/plain": [
       "<Figure size 432x288 with 1 Axes>"
      ]
     },
     "metadata": {
      "needs_background": "light"
     },
     "output_type": "display_data"
    }
   ],
   "source": [
    "#Función para generar distribución discreta\n",
    "def Gen_distr_discreta(p_acum: 'P.Acumulada de la distribución a generar',\n",
    "                       indices: 'valores reales a generar aleatoriamente',\n",
    "                       N: 'cantidad de números aleatorios a generar'):\n",
    "    \n",
    "    U =np.random.rand(N)\n",
    "    # Diccionario de valores aleatorios\n",
    "    rand2reales = {i: idx for i, idx in enumerate(indices)}\n",
    "\n",
    "    # Series de los valores aletorios\n",
    "    y = pd.Series([sum([1 for p in p_acum if p < ui]) for ui in U]).map(rand2reales)\n",
    "\n",
    "    return y\n",
    "# Función que calcula la probabilidad acumulada optimizada de la distribución Binomial\n",
    "def P_acum_Binomial_o(n,p):\n",
    "    Pr = np.zeros(n)\n",
    "    Pr[0] = (1-p)**n\n",
    "    def pr(i):\n",
    "        nonlocal Pr\n",
    "        c  = p/(1-p)\n",
    "        Pr[i+1]=(c*(n-i)/(i+1))*Pr[i]\n",
    "        \n",
    "    # Lleno el vector Pr usando compresión de listas\n",
    "    [pr(i) for i in range(n-1)]\n",
    "    return np.cumsum(Pr)\n",
    "\n",
    "#Definimos los parametros de la distribución binomial\n",
    "n=10\n",
    "p=0.7\n",
    "N=1000\n",
    "p_acum = P_acum_Binomial_o(n,p)\n",
    "#Generamos 1000 muestras usando el método de la transformada inversa\n",
    "d_binomial = Gen_distr_discreta(p_acum, np.arange(0, n+1), N)\n",
    "\n",
    "# Gráficamos el histograma\n",
    "plt.hist(d_binomial, density=True, bins=np.arange(n+2)-0.5, color=\"orange\" , label=\"Histograma\")\n",
    "# Graficar la función de densidad de probabilidad\n",
    "x = np.arange(n+1)\n",
    "fx = [np.math.comb(n, i) * p**i * (1-p)**(n-i) for i in x]\n",
    "plt.plot(x, fx, 'b*-', label=\"Función densidad prob\")\n",
    "plt.xlabel('n=10')\n",
    "plt.ylabel('Probabilidad=0.7')\n",
    "plt.title('Ejercicio 2')\n",
    "plt.legend()\n",
    "plt.show()"
   ]
  },
  {
   "cell_type": "markdown",
   "metadata": {},
   "source": [
    "Podemos ver que la funcion de densidad de probabilidad se adapta al histograma, no perfectamente, pero se parecen, por lo que se puede llegar a concluir que es efectiva estas variables aleatorias discrevtas para una distribución binomial."
   ]
  },
  {
   "cell_type": "code",
   "execution_count": null,
   "metadata": {},
   "outputs": [],
   "source": []
  },
  {
   "cell_type": "markdown",
   "metadata": {},
   "source": [
    "Código de solución estudiante 2: Santiago"
   ]
  },
  {
   "cell_type": "markdown",
   "metadata": {},
   "source": [
    "Ejercicio 1"
   ]
  },
  {
   "cell_type": "code",
   "execution_count": 3,
   "metadata": {},
   "outputs": [
    {
     "name": "stderr",
     "output_type": "stream",
     "text": [
      "<ipython-input-3-eb0fd83b8f13>:16: RuntimeWarning: divide by zero encountered in true_divide\n",
      "  pdf = 2 / (np.pi * np.sqrt(x) * np.sqrt(1 - x))\n"
     ]
    },
    {
     "data": {
      "image/png": "[encoded data removed]",
      "text/plain": [
       "<Figure size 432x288 with 1 Axes>"
      ]
     },
     "metadata": {
      "needs_background": "light"
     },
     "output_type": "display_data"
    }
   ],
   "source": [
    "import numpy as np\n",
    "import matplotlib.pyplot as plt\n",
    "\n",
    "# Definir la función de distribución acumulada inversa\n",
    "def invCDF(y):\n",
    "    return np.sin(np.pi * y / 2) ** 2\n",
    "\n",
    "# Generar 1000 muestras aleatorias distribuidas según la función dada\n",
    "samples = [invCDF(np.random.random()) for i in range(1000)]\n",
    "\n",
    "# Graficar el histograma de las muestras generadas\n",
    "plt.hist(samples, bins=20, density=True, alpha=0.6, color='g')\n",
    "\n",
    "# Graficar la función de densidad de probabilidad\n",
    "x = np.linspace(0, 1, 100)\n",
    "pdf = 2 / (np.pi * np.sqrt(x) * np.sqrt(1 - x))\n",
    "plt.plot(x, pdf, 'r', lw=2)\n",
    "\n",
    "plt.xlabel('X')\n",
    "plt.ylabel('Probabilidad')\n",
    "plt.title('Muestras generadas con el método de la transformada inversa')\n",
    "\n",
    "plt.show()\n"
   ]
  },
  {
   "cell_type": "markdown",
   "metadata": {},
   "source": [
    "Podemos ver que el histograma de las muestras generadas se asemeja bastante bien a la función de densidad de probabilidad, lo que sugiere que el método de la transformada inversa ha generado muestras aleatorias que siguen la distribución dada de manera efectiva."
   ]
  },
  {
   "cell_type": "markdown",
   "metadata": {},
   "source": [
    "Ejercicio 2"
   ]
  },
  {
   "cell_type": "code",
   "execution_count": 12,
   "metadata": {},
   "outputs": [
    {
     "data": {
      "image/png": "[encoded data removed]",
      "text/plain": [
       "<Figure size 576x576 with 2 Axes>"
      ]
     },
     "metadata": {
      "needs_background": "light"
     },
     "output_type": "display_data"
    }
   ],
   "source": [
    "import numpy as np\n",
    "import matplotlib.pyplot as plt\n",
    "\n",
    "def binomial(n, p):\n",
    "    # Calculamos las probabilidades de éxito para cada i\n",
    "    prob = [1] * (n + 1)\n",
    "    for i in range(n):\n",
    "        prob[i+1] = prob[i] * (n-i) * p / (i+1) / (1-p)\n",
    "    return prob\n",
    "\n",
    "def inverse_transform_sampling(dist, n_samples):\n",
    "    # Generamos la distribución acumulada\n",
    "    cum_dist = np.cumsum(dist)\n",
    "    \n",
    "    # Normalizamos la distribución acumulada para que esté entre 0 y 1\n",
    "    cum_dist = cum_dist / cum_dist[-1]\n",
    "    \n",
    "    # Generamos una muestra uniforme\n",
    "    u = np.random.random(n_samples)\n",
    "    \n",
    "    # Encontramos el valor correspondiente en la distribución inversa\n",
    "    return np.searchsorted(cum_dist, u)\n",
    "\n",
    "# Definimos los parámetros de la distribución binomial\n",
    "n = 10\n",
    "p = 0.7\n",
    "\n",
    "# Generamos la distribución de probabilidad y la acumulada\n",
    "x = np.arange(n+1)\n",
    "prob = binomial(n, p)\n",
    "cum_prob = np.cumsum(prob)\n",
    "\n",
    "# Generamos las muestras usando el método de la transformada inversa\n",
    "n_samples = 1000\n",
    "samples = inverse_transform_sampling(prob, n_samples)\n",
    "\n",
    "# Graficamos la distribución de probabilidad\n",
    "fig, axs = plt.subplots(2, 1, figsize=(8,8))\n",
    "axs[0].plot(x, prob, 'bo')\n",
    "axs[0].vlines(x, 0, prob, lw=2)\n",
    "axs[0].set_title('Distribución de probabilidad')\n",
    "axs[0].set_xlabel('Número de éxitos')\n",
    "axs[0].set_ylabel('Probabilidad')\n",
    "\n",
    "# Graficamos el histograma de las muestras\n",
    "axs[1].hist(samples, bins=x-0.5, density=True, width=0.8, align='mid')\n",
    "axs[1].set_title('Histograma de muestras')\n",
    "axs[1].set_xlabel('Número de éxitos')\n",
    "axs[1].set_ylabel('Frecuencia')\n",
    "\n",
    "plt.tight_layout()\n",
    "plt.show()\n"
   ]
  },
  {
   "cell_type": "markdown",
   "metadata": {},
   "source": [
    "Podemos ver cómo se asemejan, por lo que la cumple con el propósito de generación variable aleatoria discreta. "
   ]
  },
  {
   "cell_type": "markdown",
   "metadata": {},
   "source": [
    "### Respuesta planteada en el ejercicio usando (markdown)\n",
    " La respuesta es ........."
   ]
  }
 ],
 "metadata": {
  "kernelspec": {
   "display_name": "Python 3",
   "language": "python",
   "name": "python3"
  },
  "language_info": {
   "codemirror_mode": {
    "name": "ipython",
    "version": 3
   },
   "file_extension": ".py",
   "mimetype": "text/x-python",
   "name": "python",
   "nbconvert_exporter": "python",
   "pygments_lexer": "ipython3",
   "version": "3.8.8"
  }
 },
 "nbformat": 4,
 "nbformat_minor": 2
}
